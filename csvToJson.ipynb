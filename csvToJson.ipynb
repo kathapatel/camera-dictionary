{
 "cells": [
  {
   "cell_type": "code",
   "execution_count": 43,
   "metadata": {},
   "outputs": [],
   "source": [
    "import os\n",
    "import pandas as pd\n",
    "import json\n",
    "\n",
    "file_list = [f for f in os.listdir('./csv') if os.path.isfile(os.path.join('./csv', f))]\n",
    "file_list.sort()\n",
    "dictionary = {}\n",
    "for file in file_list:\n",
    "    df=pd.read_csv(\"./csv/\"+file,encoding='latin1')\n",
    "    for i in df['Data']:\n",
    "        word=i.split(\" \")[0]\n",
    "        meaning=i.split(\")\")\n",
    "        meaning= \")\".join(meaning[1:])\n",
    "        dictionary[word]=meaning\n",
    "\n",
    "    with open('data.json', 'w') as outfile:\n",
    "        json.dump(dictionary, outfile)"
   ]
  }
 ],
 "metadata": {
  "kernelspec": {
   "display_name": "Python 3",
   "language": "python",
   "name": "python3"
  },
  "language_info": {
   "codemirror_mode": {
    "name": "ipython",
    "version": 3
   },
   "file_extension": ".py",
   "mimetype": "text/x-python",
   "name": "python",
   "nbconvert_exporter": "python",
   "pygments_lexer": "ipython3",
   "version": "3.6.4"
  }
 },
 "nbformat": 4,
 "nbformat_minor": 2
}
